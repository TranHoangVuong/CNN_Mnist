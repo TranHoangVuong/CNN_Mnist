{
  "nbformat": 4,
  "nbformat_minor": 0,
  "metadata": {
    "colab": {
      "name": "Mnist.ipynb",
      "provenance": [],
      "collapsed_sections": []
    },
    "kernelspec": {
      "name": "python3",
      "display_name": "Python 3"
    },
    "language_info": {
      "name": "python"
    },
    "accelerator": "GPU"
  },
  "cells": [
    {
      "cell_type": "code",
      "execution_count": null,
      "metadata": {
        "id": "GfpIQtGyY9_I"
      },
      "outputs": [],
      "source": [
        "from keras import datasets, Sequential\n",
        "from keras.layers import Conv2D, Dense, MaxPooling2D, Flatten,Dropout\n",
        "import matplotlib.pyplot as plt\n",
        "import numpy as np\n",
        "from sklearn.metrics import confusion_matrix\n",
        "from keras.utils import np_utils\n",
        "# download the dataset from source and divide into training and test set\n",
        "\n",
        "from keras.datasets import mnist\n",
        "(x_train, y_train),(x_test, y_test)=mnist.load_data()"
      ]
    },
    {
      "cell_type": "code",
      "source": [
        "x_train = x_train.reshape(60000,28,28,1)\n",
        "x_test = x_test.reshape(10000,28,28,1)\n",
        "x_train = x_train.astype('float32')\n",
        "x_test = x_test.astype('float32')\n",
        "\n",
        "x_train /= 255\n",
        "x_test /= 255\n",
        "\n",
        "y_train = np_utils.to_categorical(y_train,10)\n",
        "y_test= np_utils.to_categorical(y_test,10)\n"
      ],
      "metadata": {
        "id": "4LWDhOJFZZM_"
      },
      "execution_count": null,
      "outputs": []
    },
    {
      "cell_type": "code",
      "source": [
        "model = Sequential()\n",
        "model.add(Conv2D(input_shape=(28,28,1), kernel_size=(3,3), padding='same',  filters=32))\n",
        "model.add(MaxPooling2D(pool_size=(3,3),  padding='same'))\n",
        "\n",
        "model.add(Conv2D( kernel_size=(3,3), padding='same',  filters=64))\n",
        "model.add(MaxPooling2D(pool_size=(3,3),  padding='same'))\n",
        "\n",
        "model.add(Flatten())\n",
        "\n",
        "model.add(Dense(256, activation='relu', kernel_initializer='he_uniform'))\n",
        "model.add(Dropout(0.2))\n",
        "model.add(Dense(10, activation='softmax'))\n",
        "model.add(Dropout(0.2))\n",
        "model.summary()\n",
        "\n",
        "from tensorflow.keras.optimizers import SGD\n",
        "opt=SGD()\n",
        "\n",
        "model.compile(loss='categorical_crossentropy',\n",
        "              optimizer=opt,\n",
        "              metrics=['accuracy'])\n",
        "\n",
        "history = model.fit(x_train, y_train, batch_size = 128, epochs=20,validation_data=(x_test, y_test), verbose=1)\n",
        "\n",
        "test_loss,test_acc=model.evaluate(x_test, y_test)\n",
        "print(\"test accuracy: \",test_acc)"
      ],
      "metadata": {
        "colab": {
          "base_uri": "https://localhost:8080/"
        },
        "id": "JjwZg6qjZiAU",
        "outputId": "70279544-85d4-4216-8421-65f72f453ac6"
      },
      "execution_count": null,
      "outputs": [
        {
          "output_type": "stream",
          "name": "stdout",
          "text": [
            "Model: \"sequential_38\"\n",
            "_________________________________________________________________\n",
            " Layer (type)                Output Shape              Param #   \n",
            "=================================================================\n",
            " conv2d_17 (Conv2D)          (None, 28, 28, 32)        320       \n",
            "                                                                 \n",
            " max_pooling2d_14 (MaxPoolin  (None, 10, 10, 32)       0         \n",
            " g2D)                                                            \n",
            "                                                                 \n",
            " conv2d_18 (Conv2D)          (None, 10, 10, 64)        18496     \n",
            "                                                                 \n",
            " max_pooling2d_15 (MaxPoolin  (None, 4, 4, 64)         0         \n",
            " g2D)                                                            \n",
            "                                                                 \n",
            " flatten_9 (Flatten)         (None, 1024)              0         \n",
            "                                                                 \n",
            " dense_18 (Dense)            (None, 256)               262400    \n",
            "                                                                 \n",
            " dropout_18 (Dropout)        (None, 256)               0         \n",
            "                                                                 \n",
            " dense_19 (Dense)            (None, 10)                2570      \n",
            "                                                                 \n",
            " dropout_19 (Dropout)        (None, 10)                0         \n",
            "                                                                 \n",
            "=================================================================\n",
            "Total params: 283,786\n",
            "Trainable params: 283,786\n",
            "Non-trainable params: 0\n",
            "_________________________________________________________________\n",
            "Epoch 1/20\n",
            "469/469 [==============================] - 48s 102ms/step - loss: 4.6668 - accuracy: 0.3476 - val_loss: 1.3895 - val_accuracy: 0.7662\n",
            "Epoch 2/20\n",
            "469/469 [==============================] - 38s 81ms/step - loss: 3.7819 - accuracy: 0.6462 - val_loss: 0.4303 - val_accuracy: 0.8809\n",
            "Epoch 3/20\n",
            "469/469 [==============================] - 39s 84ms/step - loss: 3.4818 - accuracy: 0.7207 - val_loss: 0.2794 - val_accuracy: 0.9233\n",
            "Epoch 4/20\n",
            "469/469 [==============================] - 38s 81ms/step - loss: 3.4192 - accuracy: 0.7388 - val_loss: 0.2225 - val_accuracy: 0.9337\n",
            "Epoch 5/20\n",
            "469/469 [==============================] - 38s 81ms/step - loss: 3.3706 - accuracy: 0.7494 - val_loss: 0.1894 - val_accuracy: 0.9428\n",
            "Epoch 6/20\n",
            "469/469 [==============================] - 38s 81ms/step - loss: 3.3724 - accuracy: 0.7541 - val_loss: 0.1698 - val_accuracy: 0.9487\n",
            "Epoch 7/20\n",
            "469/469 [==============================] - 38s 81ms/step - loss: 3.3083 - accuracy: 0.7610 - val_loss: 0.1569 - val_accuracy: 0.9517\n",
            "Epoch 8/20\n",
            "469/469 [==============================] - 38s 81ms/step - loss: 3.3655 - accuracy: 0.7600 - val_loss: 0.1467 - val_accuracy: 0.9541\n",
            "Epoch 9/20\n",
            "469/469 [==============================] - 38s 81ms/step - loss: 3.3107 - accuracy: 0.7658 - val_loss: 0.1310 - val_accuracy: 0.9584\n",
            "Epoch 10/20\n",
            "469/469 [==============================] - 38s 81ms/step - loss: 3.2933 - accuracy: 0.7693 - val_loss: 0.1232 - val_accuracy: 0.9611\n",
            "Epoch 11/20\n",
            "469/469 [==============================] - 38s 81ms/step - loss: 3.3002 - accuracy: 0.7703 - val_loss: 0.1151 - val_accuracy: 0.9646\n",
            "Epoch 12/20\n",
            "469/469 [==============================] - 38s 81ms/step - loss: 3.3382 - accuracy: 0.7695 - val_loss: 0.1085 - val_accuracy: 0.9657\n",
            "Epoch 13/20\n",
            "469/469 [==============================] - 38s 81ms/step - loss: 3.3099 - accuracy: 0.7720 - val_loss: 0.1036 - val_accuracy: 0.9657\n",
            "Epoch 14/20\n",
            "469/469 [==============================] - 38s 81ms/step - loss: 3.3536 - accuracy: 0.7709 - val_loss: 0.0976 - val_accuracy: 0.9695\n",
            "Epoch 15/20\n",
            "469/469 [==============================] - 38s 81ms/step - loss: 3.2990 - accuracy: 0.7750 - val_loss: 0.0955 - val_accuracy: 0.9684\n",
            "Epoch 16/20\n",
            "469/469 [==============================] - 38s 81ms/step - loss: 3.3127 - accuracy: 0.7751 - val_loss: 0.0895 - val_accuracy: 0.9720\n",
            "Epoch 17/20\n",
            "469/469 [==============================] - 38s 81ms/step - loss: 3.2500 - accuracy: 0.7797 - val_loss: 0.0862 - val_accuracy: 0.9731\n",
            "Epoch 18/20\n",
            "469/469 [==============================] - 38s 81ms/step - loss: 3.2517 - accuracy: 0.7806 - val_loss: 0.0837 - val_accuracy: 0.9714\n",
            "Epoch 19/20\n",
            "469/469 [==============================] - 38s 81ms/step - loss: 3.2760 - accuracy: 0.7789 - val_loss: 0.0803 - val_accuracy: 0.9740\n",
            "Epoch 20/20\n",
            "469/469 [==============================] - 38s 81ms/step - loss: 3.2676 - accuracy: 0.7810 - val_loss: 0.0764 - val_accuracy: 0.9748\n",
            "313/313 [==============================] - 2s 7ms/step - loss: 0.0764 - accuracy: 0.9748\n",
            "test accuracy:  0.9747999906539917\n"
          ]
        }
      ]
    },
    {
      "cell_type": "code",
      "source": [
        "acc = history.history['accuracy']\n",
        "val_acc = history.history['val_accuracy']\n",
        "\n",
        "plt.figure()\n",
        "plt.plot(acc,color = 'purple',label = 'Training Acuracy')\n",
        "plt.plot(val_acc,color = 'blue',label = 'Validation Accuracy')\n",
        "plt.legend()"
      ],
      "metadata": {
        "colab": {
          "base_uri": "https://localhost:8080/",
          "height": 284
        },
        "id": "lBPUw6y2Zq2m",
        "outputId": "a79027e7-2772-4051-f9bc-0f2b04aa6a21"
      },
      "execution_count": null,
      "outputs": [
        {
          "output_type": "execute_result",
          "data": {
            "text/plain": [
              "<matplotlib.legend.Legend at 0x7fbc17b7b250>"
            ]
          },
          "metadata": {},
          "execution_count": 57
        },
        {
          "output_type": "display_data",
          "data": {
            "text/plain": [
              "<Figure size 432x288 with 1 Axes>"
            ],
            "image/png": "[encoded data removed]"
          },
          "metadata": {
            "needs_background": "light"
          }
        }
      ]
    },
    {
      "cell_type": "code",
      "source": [
        "loss = history.history['loss']\n",
        "val_loss = history.history['val_loss']\n",
        "\n",
        "plt.figure()\n",
        "plt.plot(loss,color = 'green',label = 'Training Loss')\n",
        "plt.plot(val_loss,color = 'red',label = 'Validation Loss')\n",
        "plt.legend()"
      ],
      "metadata": {
        "colab": {
          "base_uri": "https://localhost:8080/",
          "height": 282
        },
        "id": "4Hv7FuYFZrfy",
        "outputId": "7c9dbe1c-2403-4914-bb38-d0a4a40ead4e"
      },
      "execution_count": null,
      "outputs": [
        {
          "output_type": "execute_result",
          "data": {
            "text/plain": [
              "<matplotlib.legend.Legend at 0x7fbc17b00b50>"
            ]
          },
          "metadata": {},
          "execution_count": 58
        },
        {
          "output_type": "display_data",
          "data": {
            "text/plain": [
              "<Figure size 432x288 with 1 Axes>"
            ],
            "image/png": "[encoded data removed]"
          },
          "metadata": {
            "needs_background": "light"
          }
        }
      ]
    },
    {
      "cell_type": "code",
      "source": [
        "#lưu lại mô hình \n",
        "model.save('CNN_Mnist_final.h5')\n",
        "# lấy lại mô hình \n",
        "from keras import models\n",
        "model500=models.load_model('CNN_Mnist_final.h5')"
      ],
      "metadata": {
        "id": "6H3hIQ_iZw3e"
      },
      "execution_count": null,
      "outputs": []
    },
    {
      "cell_type": "code",
      "source": [
        "y_pred = model.predict(x_test)\n",
        "print(y_pred)"
      ],
      "metadata": {
        "colab": {
          "base_uri": "https://localhost:8080/"
        },
        "id": "NyLLQO4MZ-wV",
        "outputId": "9caa3261-6cac-4adb-8af9-b188cd36491c"
      },
      "execution_count": null,
      "outputs": [
        {
          "output_type": "stream",
          "name": "stdout",
          "text": [
            "[[2.7773410e-07 2.5311766e-07 9.0967806e-06 ... 9.9991584e-01\n",
            "  5.8112198e-07 2.8857643e-05]\n",
            " [3.2380052e-05 8.9097308e-04 9.9895042e-01 ... 6.0004268e-08\n",
            "  5.2723230e-05 2.2015302e-08]\n",
            " [8.0954313e-05 9.9769431e-01 2.6038886e-04 ... 2.6337031e-04\n",
            "  3.4667974e-04 4.3072447e-05]\n",
            " ...\n",
            " [1.3476463e-07 5.0276407e-07 1.9785491e-08 ... 9.5575751e-06\n",
            "  8.3956598e-05 5.6844082e-04]\n",
            " [2.8293991e-06 3.9896901e-07 4.6194459e-06 ... 9.6507654e-07\n",
            "  5.4842713e-03 1.7432127e-07]\n",
            " [1.6996006e-05 1.3282428e-07 1.4658977e-05 ... 5.1280208e-10\n",
            "  5.1054626e-06 4.0872571e-08]]\n"
          ]
        }
      ]
    }
  ]
}